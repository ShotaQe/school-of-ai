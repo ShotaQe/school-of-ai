{
 "cells": [
  {
   "cell_type": "code",
   "execution_count": 1,
   "metadata": {},
   "outputs": [],
   "source": [
    "%load_ext autoreload\n",
    "%autoreload 2\n",
    "\n",
    "%matplotlib inline"
   ]
  },
  {
   "cell_type": "markdown",
   "metadata": {},
   "source": [
    "## Basic setup"
   ]
  },
  {
   "cell_type": "markdown",
   "metadata": {},
   "source": [
    "Create anaconda environment\n",
    "<br>\n",
    "```bash\n",
    "conda create -n ml python=3.7.4 jupyter\n",
    "```\n",
    "Install fastai library\n",
    "<br>\n",
    "```bash\n",
    "conda install -c pytorch -c fastai fastai\n",
    "```"
   ]
  },
  {
   "cell_type": "markdown",
   "metadata": {},
   "source": [
    "# Set theory basics"
   ]
  },
  {
   "cell_type": "markdown",
   "metadata": {},
   "source": [
    "#### Prove that:\n",
    "<br>\n",
    "$A \\subseteq A$"
   ]
  },
  {
   "cell_type": "markdown",
   "metadata": {},
   "source": [
    "subset $B \\subseteq C$ if for every $x$ element of $B$, $x \\in C$ .\n",
    "every $x$ element of $A$, $x \\in A$ $\\to$ $A \\subseteq A$\n"
   ]
  },
  {
   "cell_type": "markdown",
   "metadata": {},
   "source": [
    "#### Prove that:\n",
    "<br>\n",
    "If $A \\subseteq B$ and $B \\subseteq A$ $\\to$ $A = B$"
   ]
  },
  {
   "cell_type": "markdown",
   "metadata": {},
   "source": [
    "1. $A \\subseteq B$, every $x \\in A$ $\\to$ $x \\in B$"
   ]
  },
  {
   "cell_type": "markdown",
   "metadata": {},
   "source": [
    "2. $B \\subseteq A$, every $x \\in B$ $\\to$ $x \\in A$\n"
   ]
  },
  {
   "cell_type": "markdown",
   "metadata": {},
   "source": [
    "from (1 and 2) $\\to$ $A = B$"
   ]
  },
  {
   "cell_type": "markdown",
   "metadata": {},
   "source": [
    "#### Prove that:\n",
    "<br>\n",
    "if $B \\subset A$ then $A \\cap B = B$"
   ]
  },
  {
   "cell_type": "markdown",
   "metadata": {},
   "source": [
    "if $B \\subset A$ every $x \\in B$ we have $x \\in A$. if $x \\in $$A \\cap B $ it means $x \\in A$ and $x \\in B$.  from this sentences derive if $B \\subset A$ then $A \\cap B = B$\n"
   ]
  },
  {
   "cell_type": "markdown",
   "metadata": {},
   "source": [
    "#### Prove that:\n",
    "<br>\n",
    "$A \\cap B = B \\cap A$"
   ]
  },
  {
   "cell_type": "markdown",
   "metadata": {},
   "source": [
    "if $x \\in $ $A \\cap B$ by definition of intersection we have that $x \\in A$ and $x \\in B$. if we consider $x \\in $$B \\cap A$ we have $x \\in B$ and $x \\in A$ . both are identical so we can say they are commutative  "
   ]
  },
  {
   "cell_type": "markdown",
   "metadata": {},
   "source": [
    "#### Prove that:\n",
    "<br>\n",
    "if $B \\subset A$ then $A \\cup B = A$"
   ]
  },
  {
   "cell_type": "markdown",
   "metadata": {},
   "source": [
    "if $B \\subset A$ every $x \\in B$ we have $x \\in A$, if $x \\in $$A \\cup B$ it means $x \\in A$ and $x \\in B$ . აქედან გამომდინარეობს რომ თუ $B \\subset A$ მაშინ მისი ყველა ელემენტი არის $A$ სიმრავლის ელემენტიც ამიტომ ამ ორი სიმრავლის გაერთიანება იქნება თვითონ $A$"
   ]
  },
  {
   "cell_type": "markdown",
   "metadata": {},
   "source": [
    "#### Prove that:\n",
    "<br>\n",
    "$A \\cup B = B \\cup A$"
   ]
  },
  {
   "cell_type": "markdown",
   "metadata": {},
   "source": [
    "გაერთიანების თვისებიდან გამომდინარე თუ $x \\in $$A \\cup B$ მაშინ $x \\in A$ და $x \\in B$. განვიხილოთ მეორე მხარე, თუ $x \\in $$B \\cup A$ მაშინ $x \\in B$ და $x \\in A$ აქედან გამომდინარეობს რომ გაერთიანება კომუტაციურია $A \\cup B = B \\cup A$"
   ]
  },
  {
   "cell_type": "markdown",
   "metadata": {},
   "source": [
    "#### Prove that:\n",
    "- for every injection $m:A \\to B$ and pair of functions $f, g :C \\to A$: if $m \\circ f = m \\circ g$ then $f = g$ and vice-versa\n",
    "- for every surjection $e:A \\to B$ and every pair of functions $f, g :B \\to C$: if $f \\circ e = g \\circ e$ then $f = g$ and vice-versa"
   ]
  },
  {
   "cell_type": "markdown",
   "metadata": {},
   "source": [
    "#### Prove that \n",
    "- composition of injections is injection itself\n",
    "- composition of surjections is surjection itself\n",
    "- composition of bijections is bijection itself\n",
    "<br>\n",
    "or give a counterexamples"
   ]
  },
  {
   "cell_type": "markdown",
   "metadata": {},
   "source": [
    "#### Prove that for each set $A$:\n",
    "- $A \\cong A$\n",
    "- if $B \\cong A$ then $B \\cong A$ for every pair of sets $A$ and $B$\n",
    "- if $A \\cong B$ and $B \\cong C$ then $A \\cong C$ for every triplet $A$, $B$ and $C$"
   ]
  },
  {
   "cell_type": "markdown",
   "metadata": {},
   "source": [
    "#### Prove that:\n",
    "<br>\n",
    "there exists a bijection between set of natural and even numbers"
   ]
  },
  {
   "cell_type": "markdown",
   "metadata": {},
   "source": [
    "$$ f : \\mathbb{N} \\rightarrow \\mathbb{2N} $$ნატურალურ n რიცხვებს თუ შევუსაბამებთ 2n-ს მაშინ მოხდება ბიექცია . 1$\\to$2,  2$\\to$4, 3$\\to$6 და ასშ."
   ]
  },
  {
   "cell_type": "markdown",
   "metadata": {},
   "source": [
    "#### Prove that:\n",
    "<br>\n",
    "if we have a bijection between two finite sets than they have an equal number of elements"
   ]
  },
  {
   "cell_type": "markdown",
   "metadata": {},
   "source": [
    "$ X = \\{x_1, x_2, \\dots, x_i \\} ,   Y = \\{ y_1, y_2, \\dots, y_n \\} $ თუ არსებობს ბიექცია მაშინ $X$ ის ყოველ ელემენტს შეესაბამება $Y$ ის განსხვავებული მნიშვნელობა და $Y$ ის ყოველ მნიშვნელობას შეესაბამება ერთი $X$ დან. დავუშვათ i<n ზე მაშინ $Y$ ინდექსად i+1,i+2 .. n მდე იქნება ისეთი რომელსაც $X$ დან არ შეესაბამება არაფერი (ირღვევა ბიექცია). თუ i>n ზე მაშინ $X$ ინდექსად n+1,n+2 .. i მდე იქნება ისეთი რომელსაც $Y$ ში არაფერი შეესაბამება (ირღვევა ბიექცია) . ამიტომაც i=n"
   ]
  },
  {
   "cell_type": "markdown",
   "metadata": {},
   "source": [
    "#### Prove that:\n",
    "<br>\n",
    "$A \\times B \\cong B \\times A$"
   ]
  },
  {
   "cell_type": "markdown",
   "metadata": {},
   "source": [
    "$\\cap_{i\\in I}A_i$ and $\\cup_{i\\in I}A_i$"
   ]
  },
  {
   "cell_type": "code",
   "execution_count": null,
   "metadata": {},
   "outputs": [],
   "source": [
    "# Inplement in python"
   ]
  },
  {
   "cell_type": "markdown",
   "metadata": {},
   "source": [
    "We can also define cartesian product of any \"number\" of sets $\\prod_{i \\in I}{A_i}$"
   ]
  },
  {
   "cell_type": "code",
   "execution_count": null,
   "metadata": {},
   "outputs": [],
   "source": [
    "# Inplement in python"
   ]
  },
  {
   "cell_type": "markdown",
   "metadata": {},
   "source": [
    "#### Prove that:\n",
    "<br>\n",
    "$$A \\cap (B \\cup C)=(A \\cap B) \\cup (A\\cap C)$$\n",
    "$$A \\cup (B \\cap C)=(A \\cup B) \\cap (A\\cup C)$$"
   ]
  },
  {
   "cell_type": "markdown",
   "metadata": {},
   "source": [
    "ავიღოთ რაიმე $x \\in $$A \\cap (B \\cup C)$. თუ $x \\in $$A \\cap (B \\cup C)$ მაშინ $x \\in A$ და $x \\in (B \\cup C)$ $\\to$ $x \\in B$ ან $x \\in С$ ანუ x ეკუთვნის $A$ და (x ეკუთვნის B ს ან x ეკუთვნის C). ტოლობის მეორე მხარეს ავიღოთ რაიმე $y \\in $ ($(A \\cap B) \\cup (A\\cap C)$) $\\to$ $y \\in $$(A \\cap B)$ ან $y \\in $$(A\\cap C)$ აქედან მივიღებთ რომ $y \\in $ $(A და B)$  , ან $y \\in $ $(A და C)$. (AდაB) ან (AდაС) იგივეა რაც Aდა(BანС) . შესაბამისად ტოლობის ორივე მხარეს ერთი და იგივე მივიღეთ ამიტომ ეს ტოლობა ჭეშმარიტია. (იგივე ლოგიკით თუ გავყვებით მეორე უტოლობაც იგივე ლოგიკით დამტკიცდება)"
   ]
  },
  {
   "cell_type": "markdown",
   "metadata": {},
   "source": [
    "# Linear Algebra"
   ]
  },
  {
   "cell_type": "markdown",
   "metadata": {},
   "source": [
    "#### Prove that:\n",
    "<br>\n",
    "$(AB)^{T} = B^{T}A^{T}$ for each pair of matrices $A, B \\in \\mathbb{R}^{n \\times m}$"
   ]
  },
  {
   "cell_type": "markdown",
   "metadata": {},
   "source": [
    "$ M = (AB)^T $ $ m_{ij} = \\sum_{k=1}^n a_{jk}b_{ki} $ $ C = B^T A^T $ $ c_{ij} = \\sum_{k=1}^n b_{ki}a_{jk} = \\sum_{k=1}^n a_{jk}b_{ki} = m_{ij} $"
   ]
  },
  {
   "cell_type": "markdown",
   "metadata": {},
   "source": [
    "## Functions on tensors"
   ]
  },
  {
   "cell_type": "markdown",
   "metadata": {},
   "source": [
    "#### Write combination for $XOR$ calculation"
   ]
  },
  {
   "cell_type": "code",
   "execution_count": null,
   "metadata": {},
   "outputs": [],
   "source": []
  }
 ],
 "metadata": {
  "kernelspec": {
   "display_name": "Python 3",
   "language": "python",
   "name": "python3"
  },
  "language_info": {
   "codemirror_mode": {
    "name": "ipython",
    "version": 3
   },
   "file_extension": ".py",
   "mimetype": "text/x-python",
   "name": "python",
   "nbconvert_exporter": "python",
   "pygments_lexer": "ipython3",
   "version": "3.7.4"
  }
 },
 "nbformat": 4,
 "nbformat_minor": 4
}
